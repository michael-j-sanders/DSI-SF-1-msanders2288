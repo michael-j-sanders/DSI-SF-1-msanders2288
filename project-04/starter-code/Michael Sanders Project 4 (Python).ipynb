{
 "cells": [
  {
   "cell_type": "markdown",
   "metadata": {},
   "source": [
    "# Classification with stumbleupon data\n",
    "\n",
    "Project 4 has been changed since scraping was untenable. The project now focuses on the stumbleupon kaggle dataset. For more information on this dataset, [check out the website here](https://www.kaggle.com/c/stumbleupon).\n",
    "\n",
    "---"
   ]
  },
  {
   "cell_type": "markdown",
   "metadata": {},
   "source": [
    "## 1. Load in the dataset\n",
    "\n",
    "This is the only part completed for you.\n",
    "\n",
    "---"
   ]
  },
  {
   "cell_type": "code",
   "execution_count": 1,
   "metadata": {
    "collapsed": true
   },
   "outputs": [],
   "source": [
    "import pandas as pd\n",
    "import numpy as np\n",
    "import matplotlib.pyplot as plt\n",
    "import seaborn as sns\n",
    "\n",
    "sns.set_style('white')\n",
    "\n",
    "%matplotlib inline"
   ]
  },
  {
   "cell_type": "code",
   "execution_count": 2,
   "metadata": {
    "collapsed": false,
    "scrolled": true
   },
   "outputs": [
    {
     "data": {
      "text/html": [
       "<div>\n",
       "<table border=\"1\" class=\"dataframe\">\n",
       "  <thead>\n",
       "    <tr style=\"text-align: right;\">\n",
       "      <th></th>\n",
       "      <th>url</th>\n",
       "      <th>urlid</th>\n",
       "      <th>boilerplate</th>\n",
       "      <th>alchemy_category</th>\n",
       "      <th>alchemy_category_score</th>\n",
       "      <th>avglinksize</th>\n",
       "      <th>commonlinkratio_1</th>\n",
       "      <th>commonlinkratio_2</th>\n",
       "      <th>commonlinkratio_3</th>\n",
       "      <th>commonlinkratio_4</th>\n",
       "      <th>...</th>\n",
       "      <th>is_news</th>\n",
       "      <th>lengthyLinkDomain</th>\n",
       "      <th>linkwordscore</th>\n",
       "      <th>news_front_page</th>\n",
       "      <th>non_markup_alphanum_characters</th>\n",
       "      <th>numberOfLinks</th>\n",
       "      <th>numwords_in_url</th>\n",
       "      <th>parametrizedLinkRatio</th>\n",
       "      <th>spelling_errors_ratio</th>\n",
       "      <th>label</th>\n",
       "    </tr>\n",
       "  </thead>\n",
       "  <tbody>\n",
       "    <tr>\n",
       "      <th>0</th>\n",
       "      <td>http://www.bloomberg.com/news/2010-12-23/ibm-p...</td>\n",
       "      <td>4042</td>\n",
       "      <td>{\"title\":\"IBM Sees Holographic Calls Air Breat...</td>\n",
       "      <td>business</td>\n",
       "      <td>0.789131</td>\n",
       "      <td>2.055556</td>\n",
       "      <td>0.676471</td>\n",
       "      <td>0.205882</td>\n",
       "      <td>0.047059</td>\n",
       "      <td>0.023529</td>\n",
       "      <td>...</td>\n",
       "      <td>1</td>\n",
       "      <td>1</td>\n",
       "      <td>24</td>\n",
       "      <td>0</td>\n",
       "      <td>5424</td>\n",
       "      <td>170</td>\n",
       "      <td>8</td>\n",
       "      <td>0.152941</td>\n",
       "      <td>0.079130</td>\n",
       "      <td>0</td>\n",
       "    </tr>\n",
       "    <tr>\n",
       "      <th>1</th>\n",
       "      <td>http://www.popsci.com/technology/article/2012-...</td>\n",
       "      <td>8471</td>\n",
       "      <td>{\"title\":\"The Fully Electronic Futuristic Star...</td>\n",
       "      <td>recreation</td>\n",
       "      <td>0.574147</td>\n",
       "      <td>3.677966</td>\n",
       "      <td>0.508021</td>\n",
       "      <td>0.288770</td>\n",
       "      <td>0.213904</td>\n",
       "      <td>0.144385</td>\n",
       "      <td>...</td>\n",
       "      <td>1</td>\n",
       "      <td>1</td>\n",
       "      <td>40</td>\n",
       "      <td>0</td>\n",
       "      <td>4973</td>\n",
       "      <td>187</td>\n",
       "      <td>9</td>\n",
       "      <td>0.181818</td>\n",
       "      <td>0.125448</td>\n",
       "      <td>1</td>\n",
       "    </tr>\n",
       "    <tr>\n",
       "      <th>2</th>\n",
       "      <td>http://www.menshealth.com/health/flu-fighting-...</td>\n",
       "      <td>1164</td>\n",
       "      <td>{\"title\":\"Fruits that Fight the Flu fruits tha...</td>\n",
       "      <td>health</td>\n",
       "      <td>0.996526</td>\n",
       "      <td>2.382883</td>\n",
       "      <td>0.562016</td>\n",
       "      <td>0.321705</td>\n",
       "      <td>0.120155</td>\n",
       "      <td>0.042636</td>\n",
       "      <td>...</td>\n",
       "      <td>1</td>\n",
       "      <td>1</td>\n",
       "      <td>55</td>\n",
       "      <td>0</td>\n",
       "      <td>2240</td>\n",
       "      <td>258</td>\n",
       "      <td>11</td>\n",
       "      <td>0.166667</td>\n",
       "      <td>0.057613</td>\n",
       "      <td>1</td>\n",
       "    </tr>\n",
       "    <tr>\n",
       "      <th>3</th>\n",
       "      <td>http://www.dumblittleman.com/2007/12/10-foolpr...</td>\n",
       "      <td>6684</td>\n",
       "      <td>{\"title\":\"10 Foolproof Tips for Better Sleep \"...</td>\n",
       "      <td>health</td>\n",
       "      <td>0.801248</td>\n",
       "      <td>1.543103</td>\n",
       "      <td>0.400000</td>\n",
       "      <td>0.100000</td>\n",
       "      <td>0.016667</td>\n",
       "      <td>0.000000</td>\n",
       "      <td>...</td>\n",
       "      <td>1</td>\n",
       "      <td>0</td>\n",
       "      <td>24</td>\n",
       "      <td>0</td>\n",
       "      <td>2737</td>\n",
       "      <td>120</td>\n",
       "      <td>5</td>\n",
       "      <td>0.041667</td>\n",
       "      <td>0.100858</td>\n",
       "      <td>1</td>\n",
       "    </tr>\n",
       "    <tr>\n",
       "      <th>4</th>\n",
       "      <td>http://bleacherreport.com/articles/1205138-the...</td>\n",
       "      <td>9006</td>\n",
       "      <td>{\"title\":\"The 50 Coolest Jerseys You Didn t Kn...</td>\n",
       "      <td>sports</td>\n",
       "      <td>0.719157</td>\n",
       "      <td>2.676471</td>\n",
       "      <td>0.500000</td>\n",
       "      <td>0.222222</td>\n",
       "      <td>0.123457</td>\n",
       "      <td>0.043210</td>\n",
       "      <td>...</td>\n",
       "      <td>1</td>\n",
       "      <td>1</td>\n",
       "      <td>14</td>\n",
       "      <td>0</td>\n",
       "      <td>12032</td>\n",
       "      <td>162</td>\n",
       "      <td>10</td>\n",
       "      <td>0.098765</td>\n",
       "      <td>0.082569</td>\n",
       "      <td>0</td>\n",
       "    </tr>\n",
       "  </tbody>\n",
       "</table>\n",
       "<p>5 rows × 27 columns</p>\n",
       "</div>"
      ],
      "text/plain": [
       "                                                 url  urlid  \\\n",
       "0  http://www.bloomberg.com/news/2010-12-23/ibm-p...   4042   \n",
       "1  http://www.popsci.com/technology/article/2012-...   8471   \n",
       "2  http://www.menshealth.com/health/flu-fighting-...   1164   \n",
       "3  http://www.dumblittleman.com/2007/12/10-foolpr...   6684   \n",
       "4  http://bleacherreport.com/articles/1205138-the...   9006   \n",
       "\n",
       "                                         boilerplate alchemy_category  \\\n",
       "0  {\"title\":\"IBM Sees Holographic Calls Air Breat...         business   \n",
       "1  {\"title\":\"The Fully Electronic Futuristic Star...       recreation   \n",
       "2  {\"title\":\"Fruits that Fight the Flu fruits tha...           health   \n",
       "3  {\"title\":\"10 Foolproof Tips for Better Sleep \"...           health   \n",
       "4  {\"title\":\"The 50 Coolest Jerseys You Didn t Kn...           sports   \n",
       "\n",
       "  alchemy_category_score  avglinksize  commonlinkratio_1  commonlinkratio_2  \\\n",
       "0               0.789131     2.055556           0.676471           0.205882   \n",
       "1               0.574147     3.677966           0.508021           0.288770   \n",
       "2               0.996526     2.382883           0.562016           0.321705   \n",
       "3               0.801248     1.543103           0.400000           0.100000   \n",
       "4               0.719157     2.676471           0.500000           0.222222   \n",
       "\n",
       "   commonlinkratio_3  commonlinkratio_4  ...    is_news  lengthyLinkDomain  \\\n",
       "0           0.047059           0.023529  ...          1                  1   \n",
       "1           0.213904           0.144385  ...          1                  1   \n",
       "2           0.120155           0.042636  ...          1                  1   \n",
       "3           0.016667           0.000000  ...          1                  0   \n",
       "4           0.123457           0.043210  ...          1                  1   \n",
       "\n",
       "   linkwordscore  news_front_page  non_markup_alphanum_characters  \\\n",
       "0             24                0                            5424   \n",
       "1             40                0                            4973   \n",
       "2             55                0                            2240   \n",
       "3             24                0                            2737   \n",
       "4             14                0                           12032   \n",
       "\n",
       "   numberOfLinks  numwords_in_url parametrizedLinkRatio  \\\n",
       "0            170                8              0.152941   \n",
       "1            187                9              0.181818   \n",
       "2            258               11              0.166667   \n",
       "3            120                5              0.041667   \n",
       "4            162               10              0.098765   \n",
       "\n",
       "   spelling_errors_ratio  label  \n",
       "0               0.079130      0  \n",
       "1               0.125448      1  \n",
       "2               0.057613      1  \n",
       "3               0.100858      1  \n",
       "4               0.082569      0  \n",
       "\n",
       "[5 rows x 27 columns]"
      ]
     },
     "execution_count": 2,
     "metadata": {},
     "output_type": "execute_result"
    }
   ],
   "source": [
    "# The delimiter removes the tabs\n",
    "su = pd.read_csv('../dataset/evergreen.tsv', delimiter='\\t')\n",
    "su.head()"
   ]
  },
  {
   "cell_type": "markdown",
   "metadata": {},
   "source": [
    "## 2. Clean up/examine your data\n",
    "\n",
    "Some of the columns may have values that need changing or that are of the wrong type. There could also be columns that aren't very useful.\n",
    "\n",
    "---"
   ]
  },
  {
   "cell_type": "code",
   "execution_count": 3,
   "metadata": {
    "collapsed": false
   },
   "outputs": [
    {
     "data": {
      "text/html": [
       "<div>\n",
       "<table border=\"1\" class=\"dataframe\">\n",
       "  <thead>\n",
       "    <tr style=\"text-align: right;\">\n",
       "      <th></th>\n",
       "      <th>urlid</th>\n",
       "      <th>avglinksize</th>\n",
       "      <th>commonlinkratio_1</th>\n",
       "      <th>commonlinkratio_2</th>\n",
       "      <th>commonlinkratio_3</th>\n",
       "      <th>commonlinkratio_4</th>\n",
       "      <th>compression_ratio</th>\n",
       "      <th>embed_ratio</th>\n",
       "      <th>framebased</th>\n",
       "      <th>frameTagRatio</th>\n",
       "      <th>...</th>\n",
       "      <th>html_ratio</th>\n",
       "      <th>image_ratio</th>\n",
       "      <th>lengthyLinkDomain</th>\n",
       "      <th>linkwordscore</th>\n",
       "      <th>non_markup_alphanum_characters</th>\n",
       "      <th>numberOfLinks</th>\n",
       "      <th>numwords_in_url</th>\n",
       "      <th>parametrizedLinkRatio</th>\n",
       "      <th>spelling_errors_ratio</th>\n",
       "      <th>label</th>\n",
       "    </tr>\n",
       "  </thead>\n",
       "  <tbody>\n",
       "    <tr>\n",
       "      <th>count</th>\n",
       "      <td>7395.000000</td>\n",
       "      <td>7395.000000</td>\n",
       "      <td>7395.000000</td>\n",
       "      <td>7395.000000</td>\n",
       "      <td>7395.000000</td>\n",
       "      <td>7395.000000</td>\n",
       "      <td>7395.000000</td>\n",
       "      <td>7395.000000</td>\n",
       "      <td>7395.0</td>\n",
       "      <td>7395.000000</td>\n",
       "      <td>...</td>\n",
       "      <td>7395.000000</td>\n",
       "      <td>7395.000000</td>\n",
       "      <td>7395.000000</td>\n",
       "      <td>7395.000000</td>\n",
       "      <td>7395.000000</td>\n",
       "      <td>7395.000000</td>\n",
       "      <td>7395.000000</td>\n",
       "      <td>7395.000000</td>\n",
       "      <td>7395.000000</td>\n",
       "      <td>7395.000000</td>\n",
       "    </tr>\n",
       "    <tr>\n",
       "      <th>mean</th>\n",
       "      <td>5305.704665</td>\n",
       "      <td>2.761823</td>\n",
       "      <td>0.468230</td>\n",
       "      <td>0.214080</td>\n",
       "      <td>0.092062</td>\n",
       "      <td>0.049262</td>\n",
       "      <td>2.255103</td>\n",
       "      <td>-0.103750</td>\n",
       "      <td>0.0</td>\n",
       "      <td>0.056423</td>\n",
       "      <td>...</td>\n",
       "      <td>0.233778</td>\n",
       "      <td>0.275709</td>\n",
       "      <td>0.660311</td>\n",
       "      <td>30.077079</td>\n",
       "      <td>5716.598242</td>\n",
       "      <td>178.754564</td>\n",
       "      <td>4.960649</td>\n",
       "      <td>0.172864</td>\n",
       "      <td>0.101221</td>\n",
       "      <td>0.513320</td>\n",
       "    </tr>\n",
       "    <tr>\n",
       "      <th>std</th>\n",
       "      <td>3048.384114</td>\n",
       "      <td>8.619793</td>\n",
       "      <td>0.203133</td>\n",
       "      <td>0.146743</td>\n",
       "      <td>0.095978</td>\n",
       "      <td>0.072629</td>\n",
       "      <td>5.704313</td>\n",
       "      <td>0.306545</td>\n",
       "      <td>0.0</td>\n",
       "      <td>0.041446</td>\n",
       "      <td>...</td>\n",
       "      <td>0.052487</td>\n",
       "      <td>1.919320</td>\n",
       "      <td>0.473636</td>\n",
       "      <td>20.393101</td>\n",
       "      <td>8875.432430</td>\n",
       "      <td>179.466198</td>\n",
       "      <td>3.233111</td>\n",
       "      <td>0.183286</td>\n",
       "      <td>0.079231</td>\n",
       "      <td>0.499856</td>\n",
       "    </tr>\n",
       "    <tr>\n",
       "      <th>min</th>\n",
       "      <td>1.000000</td>\n",
       "      <td>0.000000</td>\n",
       "      <td>0.000000</td>\n",
       "      <td>0.000000</td>\n",
       "      <td>0.000000</td>\n",
       "      <td>0.000000</td>\n",
       "      <td>0.000000</td>\n",
       "      <td>-1.000000</td>\n",
       "      <td>0.0</td>\n",
       "      <td>0.000000</td>\n",
       "      <td>...</td>\n",
       "      <td>0.045564</td>\n",
       "      <td>-1.000000</td>\n",
       "      <td>0.000000</td>\n",
       "      <td>0.000000</td>\n",
       "      <td>0.000000</td>\n",
       "      <td>1.000000</td>\n",
       "      <td>0.000000</td>\n",
       "      <td>0.000000</td>\n",
       "      <td>0.000000</td>\n",
       "      <td>0.000000</td>\n",
       "    </tr>\n",
       "    <tr>\n",
       "      <th>25%</th>\n",
       "      <td>2688.500000</td>\n",
       "      <td>1.602062</td>\n",
       "      <td>0.340370</td>\n",
       "      <td>0.105263</td>\n",
       "      <td>0.022222</td>\n",
       "      <td>0.000000</td>\n",
       "      <td>0.442616</td>\n",
       "      <td>0.000000</td>\n",
       "      <td>0.0</td>\n",
       "      <td>0.028502</td>\n",
       "      <td>...</td>\n",
       "      <td>0.201061</td>\n",
       "      <td>0.025900</td>\n",
       "      <td>0.000000</td>\n",
       "      <td>14.000000</td>\n",
       "      <td>1579.000000</td>\n",
       "      <td>82.000000</td>\n",
       "      <td>3.000000</td>\n",
       "      <td>0.040984</td>\n",
       "      <td>0.068739</td>\n",
       "      <td>0.000000</td>\n",
       "    </tr>\n",
       "    <tr>\n",
       "      <th>50%</th>\n",
       "      <td>5304.000000</td>\n",
       "      <td>2.088235</td>\n",
       "      <td>0.481481</td>\n",
       "      <td>0.202454</td>\n",
       "      <td>0.068627</td>\n",
       "      <td>0.022222</td>\n",
       "      <td>0.483680</td>\n",
       "      <td>0.000000</td>\n",
       "      <td>0.0</td>\n",
       "      <td>0.045775</td>\n",
       "      <td>...</td>\n",
       "      <td>0.230564</td>\n",
       "      <td>0.083051</td>\n",
       "      <td>1.000000</td>\n",
       "      <td>25.000000</td>\n",
       "      <td>3500.000000</td>\n",
       "      <td>139.000000</td>\n",
       "      <td>5.000000</td>\n",
       "      <td>0.113402</td>\n",
       "      <td>0.089312</td>\n",
       "      <td>1.000000</td>\n",
       "    </tr>\n",
       "    <tr>\n",
       "      <th>75%</th>\n",
       "      <td>7946.500000</td>\n",
       "      <td>2.627451</td>\n",
       "      <td>0.616604</td>\n",
       "      <td>0.300000</td>\n",
       "      <td>0.133333</td>\n",
       "      <td>0.065065</td>\n",
       "      <td>0.578227</td>\n",
       "      <td>0.000000</td>\n",
       "      <td>0.0</td>\n",
       "      <td>0.073459</td>\n",
       "      <td>...</td>\n",
       "      <td>0.260770</td>\n",
       "      <td>0.236700</td>\n",
       "      <td>1.000000</td>\n",
       "      <td>43.000000</td>\n",
       "      <td>6377.000000</td>\n",
       "      <td>222.000000</td>\n",
       "      <td>7.000000</td>\n",
       "      <td>0.241299</td>\n",
       "      <td>0.112376</td>\n",
       "      <td>1.000000</td>\n",
       "    </tr>\n",
       "    <tr>\n",
       "      <th>max</th>\n",
       "      <td>10566.000000</td>\n",
       "      <td>363.000000</td>\n",
       "      <td>1.000000</td>\n",
       "      <td>1.000000</td>\n",
       "      <td>0.980392</td>\n",
       "      <td>0.980392</td>\n",
       "      <td>21.000000</td>\n",
       "      <td>0.250000</td>\n",
       "      <td>0.0</td>\n",
       "      <td>0.444444</td>\n",
       "      <td>...</td>\n",
       "      <td>0.716883</td>\n",
       "      <td>113.333333</td>\n",
       "      <td>1.000000</td>\n",
       "      <td>100.000000</td>\n",
       "      <td>207952.000000</td>\n",
       "      <td>4997.000000</td>\n",
       "      <td>22.000000</td>\n",
       "      <td>1.000000</td>\n",
       "      <td>1.000000</td>\n",
       "      <td>1.000000</td>\n",
       "    </tr>\n",
       "  </tbody>\n",
       "</table>\n",
       "<p>8 rows × 21 columns</p>\n",
       "</div>"
      ],
      "text/plain": [
       "              urlid  avglinksize  commonlinkratio_1  commonlinkratio_2  \\\n",
       "count   7395.000000  7395.000000        7395.000000        7395.000000   \n",
       "mean    5305.704665     2.761823           0.468230           0.214080   \n",
       "std     3048.384114     8.619793           0.203133           0.146743   \n",
       "min        1.000000     0.000000           0.000000           0.000000   \n",
       "25%     2688.500000     1.602062           0.340370           0.105263   \n",
       "50%     5304.000000     2.088235           0.481481           0.202454   \n",
       "75%     7946.500000     2.627451           0.616604           0.300000   \n",
       "max    10566.000000   363.000000           1.000000           1.000000   \n",
       "\n",
       "       commonlinkratio_3  commonlinkratio_4  compression_ratio  embed_ratio  \\\n",
       "count        7395.000000        7395.000000        7395.000000  7395.000000   \n",
       "mean            0.092062           0.049262           2.255103    -0.103750   \n",
       "std             0.095978           0.072629           5.704313     0.306545   \n",
       "min             0.000000           0.000000           0.000000    -1.000000   \n",
       "25%             0.022222           0.000000           0.442616     0.000000   \n",
       "50%             0.068627           0.022222           0.483680     0.000000   \n",
       "75%             0.133333           0.065065           0.578227     0.000000   \n",
       "max             0.980392           0.980392          21.000000     0.250000   \n",
       "\n",
       "       framebased  frameTagRatio     ...        html_ratio  image_ratio  \\\n",
       "count      7395.0    7395.000000     ...       7395.000000  7395.000000   \n",
       "mean          0.0       0.056423     ...          0.233778     0.275709   \n",
       "std           0.0       0.041446     ...          0.052487     1.919320   \n",
       "min           0.0       0.000000     ...          0.045564    -1.000000   \n",
       "25%           0.0       0.028502     ...          0.201061     0.025900   \n",
       "50%           0.0       0.045775     ...          0.230564     0.083051   \n",
       "75%           0.0       0.073459     ...          0.260770     0.236700   \n",
       "max           0.0       0.444444     ...          0.716883   113.333333   \n",
       "\n",
       "       lengthyLinkDomain  linkwordscore  non_markup_alphanum_characters  \\\n",
       "count        7395.000000    7395.000000                     7395.000000   \n",
       "mean            0.660311      30.077079                     5716.598242   \n",
       "std             0.473636      20.393101                     8875.432430   \n",
       "min             0.000000       0.000000                        0.000000   \n",
       "25%             0.000000      14.000000                     1579.000000   \n",
       "50%             1.000000      25.000000                     3500.000000   \n",
       "75%             1.000000      43.000000                     6377.000000   \n",
       "max             1.000000     100.000000                   207952.000000   \n",
       "\n",
       "       numberOfLinks  numwords_in_url  parametrizedLinkRatio  \\\n",
       "count    7395.000000      7395.000000            7395.000000   \n",
       "mean      178.754564         4.960649               0.172864   \n",
       "std       179.466198         3.233111               0.183286   \n",
       "min         1.000000         0.000000               0.000000   \n",
       "25%        82.000000         3.000000               0.040984   \n",
       "50%       139.000000         5.000000               0.113402   \n",
       "75%       222.000000         7.000000               0.241299   \n",
       "max      4997.000000        22.000000               1.000000   \n",
       "\n",
       "       spelling_errors_ratio        label  \n",
       "count            7395.000000  7395.000000  \n",
       "mean                0.101221     0.513320  \n",
       "std                 0.079231     0.499856  \n",
       "min                 0.000000     0.000000  \n",
       "25%                 0.068739     0.000000  \n",
       "50%                 0.089312     1.000000  \n",
       "75%                 0.112376     1.000000  \n",
       "max                 1.000000     1.000000  \n",
       "\n",
       "[8 rows x 21 columns]"
      ]
     },
     "execution_count": 3,
     "metadata": {},
     "output_type": "execute_result"
    }
   ],
   "source": [
    "#Doing some examination of the data\n",
    "su.describe()"
   ]
  },
  {
   "cell_type": "code",
   "execution_count": 4,
   "metadata": {
    "collapsed": false
   },
   "outputs": [
    {
     "data": {
      "text/plain": [
       "url                                object\n",
       "urlid                               int64\n",
       "boilerplate                        object\n",
       "alchemy_category                   object\n",
       "alchemy_category_score             object\n",
       "avglinksize                       float64\n",
       "commonlinkratio_1                 float64\n",
       "commonlinkratio_2                 float64\n",
       "commonlinkratio_3                 float64\n",
       "commonlinkratio_4                 float64\n",
       "compression_ratio                 float64\n",
       "embed_ratio                       float64\n",
       "framebased                          int64\n",
       "frameTagRatio                     float64\n",
       "hasDomainLink                       int64\n",
       "html_ratio                        float64\n",
       "image_ratio                       float64\n",
       "is_news                            object\n",
       "lengthyLinkDomain                   int64\n",
       "linkwordscore                       int64\n",
       "news_front_page                    object\n",
       "non_markup_alphanum_characters      int64\n",
       "numberOfLinks                       int64\n",
       "numwords_in_url                     int64\n",
       "parametrizedLinkRatio             float64\n",
       "spelling_errors_ratio             float64\n",
       "label                               int64\n",
       "dtype: object"
      ]
     },
     "execution_count": 4,
     "metadata": {},
     "output_type": "execute_result"
    }
   ],
   "source": [
    "su.dtypes"
   ]
  },
  {
   "cell_type": "code",
   "execution_count": 5,
   "metadata": {
    "collapsed": false
   },
   "outputs": [
    {
     "name": "stdout",
     "output_type": "stream",
     "text": [
      "0    7238\n",
      "1     157\n",
      "Name: hasDomainLink, dtype: int64\n"
     ]
    }
   ],
   "source": [
    "# Creating value counts function\n",
    "def count(x):\n",
    "    counts = su[x].value_counts()\n",
    "    return counts\n",
    "    \n",
    "print count('hasDomainLink')"
   ]
  },
  {
   "cell_type": "code",
   "execution_count": 6,
   "metadata": {
    "collapsed": false
   },
   "outputs": [],
   "source": [
    "# Deleting the framebased column because all the values are 0\n",
    "del su['framebased']"
   ]
  },
  {
   "cell_type": "markdown",
   "metadata": {},
   "source": [
    "## 3. Use statsmodels' logistic regression function to look at variable significance\n",
    "\n",
    "The **`import statsmodels.formula.api as smf`** code below gives us access to a statsmodels api that can run logistic regressions using patsy-style formulas.\n",
    "\n",
    "Ex:\n",
    "\n",
    "```python\n",
    "formula = 'target ~ var1 + var2 + C(var3) -1'\n",
    "logreg = smf.logit(formula, data=data)\n",
    "logreg_results = logreg.fit()\n",
    "print logreg_results.summary()\n",
    "```\n",
    "\n",
    "---"
   ]
  },
  {
   "cell_type": "code",
   "execution_count": 7,
   "metadata": {
    "collapsed": false
   },
   "outputs": [],
   "source": [
    "# Creating a couple of masks. The non_numeri_col is the columns that are not floats or integers\n",
    "# The numeri_col is the ones that are floats and integers\n",
    "non_numeri_col = ['label', 'url', 'boilerplate', 'alchemy_category', 'alchemy_category_score', 'is_news', 'news_front_page']\n",
    "numeri_col = [x for x in su.columns if not x in non_numeri_col]\n",
    "target = 'label'"
   ]
  },
  {
   "cell_type": "code",
   "execution_count": 8,
   "metadata": {
    "collapsed": false
   },
   "outputs": [],
   "source": [
    "# Normalizing the numeric columns\n",
    "su[numeri_col] = (su[numeri_col] - np.mean(su[numeri_col]))/np.std(su[numeri_col])"
   ]
  },
  {
   "cell_type": "code",
   "execution_count": 9,
   "metadata": {
    "collapsed": false
   },
   "outputs": [],
   "source": [
    "# Finding the index of the numeric columns and then replacing them with the normalizes values\n",
    "su.ix[:, numeri_col] = su[numeri_col]"
   ]
  },
  {
   "cell_type": "code",
   "execution_count": 10,
   "metadata": {
    "collapsed": false
   },
   "outputs": [],
   "source": [
    "import statsmodels.formula.api as smf"
   ]
  },
  {
   "cell_type": "markdown",
   "metadata": {},
   "source": [
    "### 3.1 Run a logistic regression predicting evergreen from the numeric columns\n",
    "\n",
    "And print out the results as shown in the example above.\n",
    "\n",
    "---"
   ]
  },
  {
   "cell_type": "code",
   "execution_count": 11,
   "metadata": {
    "collapsed": false
   },
   "outputs": [
    {
     "name": "stdout",
     "output_type": "stream",
     "text": [
      "Optimization terminated successfully.\n",
      "         Current function value: 0.690069\n",
      "         Iterations 4\n",
      "                           Logit Regression Results                           \n",
      "==============================================================================\n",
      "Dep. Variable:                  label   No. Observations:                 7395\n",
      "Model:                          Logit   Df Residuals:                     7388\n",
      "Method:                           MLE   Df Model:                            6\n",
      "Date:                Mon, 16 May 2016   Pseudo R-squ.:                0.003930\n",
      "Time:                        12:55:09   Log-Likelihood:                -5103.1\n",
      "converged:                       True   LL-Null:                       -5123.2\n",
      "                                        LLR p-value:                 4.027e-07\n",
      "=========================================================================================\n",
      "                            coef    std err          z      P>|z|      [95.0% Conf. Int.]\n",
      "-----------------------------------------------------------------------------------------\n",
      "news_front_page[0]        0.0883      0.031      2.857      0.004         0.028     0.149\n",
      "news_front_page[1]       -0.2108      0.123     -1.710      0.087        -0.452     0.031\n",
      "news_front_page[?]        0.0423      0.082      0.513      0.608        -0.119     0.204\n",
      "is_news[T.?]             -0.0412      0.060     -0.691      0.490        -0.158     0.076\n",
      "avglinksize               0.0145      0.024      0.607      0.544        -0.032     0.061\n",
      "spelling_errors_ratio    -0.1273      0.025     -5.027      0.000        -0.177    -0.078\n",
      "numwords_in_url          -0.0828      0.025     -3.306      0.001        -0.132    -0.034\n",
      "=========================================================================================\n"
     ]
    }
   ],
   "source": [
    "# The negative 1 removes the intercept as other Scikit learn functions will add in an intercept and it will duplicate the\n",
    "# the intercept\n",
    "formula1 = 'label ~ avglinksize + spelling_errors_ratio + news_front_page + numwords_in_url + is_news -1'\n",
    "logreg1 = smf.logit(formula1, data=su)\n",
    "logreg_result1 = logreg1.fit()\n",
    "print logreg_result1.summary()\n",
    "# Remember that the P>|z| score essentially an indicater of how random the predicter is. A score of 0 mean that it is a non-random\n",
    "# prediction. For example: THe spelling_errors_ratio is a strong predictor as the score of 0 means that increases in spelling errors\n",
    "# have a highly predictable negative effect on the label binary."
   ]
  },
  {
   "cell_type": "markdown",
   "metadata": {},
   "source": [
    "### 3.2 Run a logistic regression predicting evergreen from the numeric columns and a categorical variable of alchemy_category\n",
    "\n",
    "And print out the results as shown in the example.\n",
    "\n",
    "---"
   ]
  },
  {
   "cell_type": "code",
   "execution_count": 12,
   "metadata": {
    "collapsed": false
   },
   "outputs": [
    {
     "name": "stdout",
     "output_type": "stream",
     "text": [
      "Warning: Maximum number of iterations has been exceeded.\n",
      "         Current function value: 0.647053\n",
      "         Iterations: 35\n",
      "                           Logit Regression Results                           \n",
      "==============================================================================\n",
      "Dep. Variable:                  label   No. Observations:                 7395\n",
      "Model:                          Logit   Df Residuals:                     7375\n",
      "Method:                           MLE   Df Model:                           19\n",
      "Date:                Mon, 16 May 2016   Pseudo R-squ.:                 0.06602\n",
      "Time:                        12:55:09   Log-Likelihood:                -4785.0\n",
      "converged:                      False   LL-Null:                       -5123.2\n",
      "                                        LLR p-value:                3.439e-131\n",
      "==========================================================================================================\n",
      "                                             coef    std err          z      P>|z|      [95.0% Conf. Int.]\n",
      "----------------------------------------------------------------------------------------------------------\n",
      "news_front_page[0]                         0.0901      0.055      1.639      0.101        -0.018     0.198\n",
      "news_front_page[1]                        -0.3287      0.138     -2.387      0.017        -0.599    -0.059\n",
      "news_front_page[?]                         0.1419      0.086      1.656      0.098        -0.026     0.310\n",
      "is_news[T.?]                              -0.1487      0.063     -2.367      0.018        -0.272    -0.026\n",
      "alchemy_category[T.arts_entertainment]    -0.5590      0.084     -6.637      0.000        -0.724    -0.394\n",
      "alchemy_category[T.business]               0.8654      0.090      9.602      0.000         0.689     1.042\n",
      "alchemy_category[T.computer_internet]     -1.1508      0.144     -7.967      0.000        -1.434    -0.868\n",
      "alchemy_category[T.culture_politics]      -0.2077      0.120     -1.735      0.083        -0.442     0.027\n",
      "alchemy_category[T.gaming]                -0.5653      0.244     -2.321      0.020        -1.043    -0.088\n",
      "alchemy_category[T.health]                 0.2709      0.103      2.629      0.009         0.069     0.473\n",
      "alchemy_category[T.law_crime]             -0.3468      0.368     -0.943      0.346        -1.068     0.374\n",
      "alchemy_category[T.recreation]             0.7481      0.080      9.387      0.000         0.592     0.904\n",
      "alchemy_category[T.religion]              -0.3693      0.245     -1.508      0.131        -0.849     0.111\n",
      "alchemy_category[T.science_technology]    -0.2276      0.129     -1.771      0.077        -0.479     0.024\n",
      "alchemy_category[T.sports]                -1.3880      0.137    -10.135      0.000        -1.656    -1.120\n",
      "alchemy_category[T.unknown]               -0.7858      0.868     -0.905      0.366        -2.488     0.916\n",
      "alchemy_category[T.weather]              -22.8750   4.63e+04     -0.000      1.000     -9.07e+04  9.07e+04\n",
      "avglinksize                                0.0208      0.026      0.810      0.418        -0.030     0.071\n",
      "spelling_errors_ratio                     -0.1059      0.025     -4.168      0.000        -0.156    -0.056\n",
      "numwords_in_url                           -0.0757      0.026     -2.888      0.004        -0.127    -0.024\n",
      "==========================================================================================================\n"
     ]
    },
    {
     "name": "stderr",
     "output_type": "stream",
     "text": [
      "/Users/mikesanders/anaconda/lib/python2.7/site-packages/statsmodels/base/model.py:466: ConvergenceWarning: Maximum Likelihood optimization failed to converge. Check mle_retvals\n",
      "  \"Check mle_retvals\", ConvergenceWarning)\n"
     ]
    }
   ],
   "source": [
    "formula2 = 'label ~ avglinksize + spelling_errors_ratio + news_front_page + numwords_in_url + is_news + alchemy_category -1'\n",
    "logreg2 = smf.logit(formula2, data=su)\n",
    "logreg_result2 = logreg2.fit()\n",
    "print logreg_result2.summary()"
   ]
  },
  {
   "cell_type": "markdown",
   "metadata": {},
   "source": [
    "## 4. Use sklearn to cross-validate the accuracy of the model above\n",
    "\n",
    "Normalize the numeric and categorical columns of the predictor matrix.\n",
    "\n",
    "---"
   ]
  },
  {
   "cell_type": "code",
   "execution_count": 13,
   "metadata": {
    "collapsed": false
   },
   "outputs": [],
   "source": [
    "from sklearn.cross_validation import train_test_split\n",
    "from sklearn.cross_validation import cross_val_score\n",
    "from sklearn.linear_model import LogisticRegression\n",
    "logreg = LogisticRegression()"
   ]
  },
  {
   "cell_type": "code",
   "execution_count": 14,
   "metadata": {
    "collapsed": false
   },
   "outputs": [],
   "source": [
    "x = su[numeri_col]\n",
    "y = su[target]"
   ]
  },
  {
   "cell_type": "code",
   "execution_count": 15,
   "metadata": {
    "collapsed": false
   },
   "outputs": [
    {
     "name": "stdout",
     "output_type": "stream",
     "text": [
      "0.621451104101\n",
      "0.629479377958\n"
     ]
    }
   ],
   "source": [
    "X_train, x_test, Y_train, y_test = train_test_split(x,y, test_size=.3 )\n",
    "\n",
    "logreg.fit(X_train, Y_train)\n",
    "logreg.predict(x_test)\n",
    "print logreg.score(x_test,y_test)\n",
    "\n",
    "logreg.fit(x,y)\n",
    "logreg.predict(x)\n",
    "print logreg.score(x,y)"
   ]
  },
  {
   "cell_type": "code",
   "execution_count": 16,
   "metadata": {
    "collapsed": false
   },
   "outputs": [
    {
     "name": "stdout",
     "output_type": "stream",
     "text": [
      "[ 0.62297297  0.62880325  0.61663286  0.61392833  0.64276049]\n",
      "0.625019579109\n"
     ]
    }
   ],
   "source": [
    "logreg_scores = cross_val_score(logreg,x,y,cv=5)\n",
    "print logreg_scores\n",
    "print np.mean(logreg_scores)"
   ]
  },
  {
   "cell_type": "markdown",
   "metadata": {},
   "source": [
    "## 5. Gridsearch regularization parameters for logistic regression\n",
    "\n",
    "Find the best regularization type (Ridge, Lasso) across a set of regularization strengths.\n",
    "\n",
    "[NOTE: C is the inverse of the regularization strength. Lower C values are stronger regularization. Having a C higher than 1 will significantly slow down the search. I'm not particularly interested in values over 1, since this is the default regularization strength in LogisticRegression.]\n",
    "\n",
    "**After you find the best set of parameters, build a Logistic Regression with those parameters and crossvalidate the score.**\n",
    "\n",
    "[NOTE 2: to run Lasso regularization the solver should be `'liblinear'`]\n",
    "\n",
    "---"
   ]
  },
  {
   "cell_type": "code",
   "execution_count": 17,
   "metadata": {
    "collapsed": true
   },
   "outputs": [],
   "source": [
    "from sklearn.grid_search import GridSearchCV"
   ]
  },
  {
   "cell_type": "code",
   "execution_count": 18,
   "metadata": {
    "collapsed": false
   },
   "outputs": [
    {
     "name": "stdout",
     "output_type": "stream",
     "text": [
      "LassoCV(alphas=None, copy_X=True, cv=None, eps=0.001, fit_intercept=True,\n",
      "    max_iter=1000, n_alphas=100, n_jobs=1, normalize=False, positive=False,\n",
      "    precompute='auto', random_state=None, selection='cyclic', tol=0.0001,\n",
      "    verbose=False)\n",
      "[ 0.49447681  0.43169012  0.39515143 ...,  0.3280733   0.3182466\n",
      "  0.33096543]\n",
      "alpha: 0.00307309299289\n",
      "0.074652799703\n"
     ]
    }
   ],
   "source": [
    "#Attempting a Lasso\n",
    "from sklearn.linear_model import LassoCV\n",
    "lasso = LassoCV()\n",
    "print lasso.fit(x, y)\n",
    "print lasso.predict(x)\n",
    "print \"alpha:\", lasso.alpha_\n",
    "print lasso.score(x, y)"
   ]
  },
  {
   "cell_type": "code",
   "execution_count": 43,
   "metadata": {
    "collapsed": false
   },
   "outputs": [
    {
     "name": "stdout",
     "output_type": "stream",
     "text": [
      "[ 0.62297297  0.62880325  0.61663286  0.61392833  0.64276049]\n",
      "0.625019579109\n"
     ]
    }
   ],
   "source": [
    "lr = LogisticRegression()\n",
    "scores = cross_val_score(lr, x, y, cv=5)\n",
    "print scores\n",
    "print np.mean(scores)"
   ]
  },
  {
   "cell_type": "code",
   "execution_count": 41,
   "metadata": {
    "collapsed": false
   },
   "outputs": [
    {
     "data": {
      "text/plain": [
       "0.5133198106828939"
      ]
     },
     "execution_count": 41,
     "metadata": {},
     "output_type": "execute_result"
    }
   ],
   "source": [
    "np.mean(y)"
   ]
  },
  {
   "cell_type": "code",
   "execution_count": 19,
   "metadata": {
    "collapsed": false
   },
   "outputs": [
    {
     "name": "stdout",
     "output_type": "stream",
     "text": [
      "[ 0.06764131  0.0749736   0.05270019  0.0586671   0.08675489]\n",
      "0.0681474172988\n"
     ]
    }
   ],
   "source": [
    "lasso_scores = cross_val_score(lasso,x,y,cv=5)\n",
    "print lasso_scores\n",
    "print np.mean(lasso_scores)"
   ]
  },
  {
   "cell_type": "code",
   "execution_count": 20,
   "metadata": {
    "collapsed": false
   },
   "outputs": [
    {
     "name": "stdout",
     "output_type": "stream",
     "text": [
      "RidgeCV(alphas=(0.1, 1.0, 10.0), cv=None, fit_intercept=True, gcv_mode=None,\n",
      "    normalize=False, scoring=None, store_cv_values=False)\n",
      "[ 0.48918181  0.42408696  0.38711455 ...,  0.30802959  0.31010472\n",
      "  0.31228117]\n",
      "alpha: 10.0\n",
      "0.0762871103676\n"
     ]
    }
   ],
   "source": [
    "# Running a gridseach for my ridge CV\n",
    "from sklearn.linear_model import RidgeCV\n",
    "ridge = RidgeCV()\n",
    "print ridge.fit(x, y)\n",
    "print ridge.predict(x)\n",
    "print \"alpha:\", ridge.alpha_\n",
    "print ridge.score(x, y)"
   ]
  },
  {
   "cell_type": "code",
   "execution_count": 21,
   "metadata": {
    "collapsed": false
   },
   "outputs": [
    {
     "name": "stdout",
     "output_type": "stream",
     "text": [
      "[ 0.06702269  0.07597336  0.04912193  0.05508989  0.09451051]\n",
      "0.0683436775244\n"
     ]
    }
   ],
   "source": [
    "ridge_scores = cross_val_score(ridge,x,y,cv=5)\n",
    "print ridge_scores\n",
    "print np.mean(ridge_scores)"
   ]
  },
  {
   "cell_type": "code",
   "execution_count": 47,
   "metadata": {
    "collapsed": false
   },
   "outputs": [],
   "source": [
    "\n",
    "from sklearn.grid_search import GridSearchCV\n",
    "\n",
    "logreg = LogisticRegression()\n",
    "Cs = 1.0/np.logspace(-1,4,20)\n",
    "\n",
    "search_parameters_log = {\n",
    "    'penalty': ['l1','l2'],\n",
    "    'C': Cs,\n",
    "    'class_weight': [None, 'balanced'],\n",
    "    'solver': ['liblinear'],\n",
    "    'n_jobs': [4],\n",
    "    }\n",
    "logreg_est = GridSearchCV(logreg, search_parameters_log, cv=10)"
   ]
  },
  {
   "cell_type": "code",
   "execution_count": 23,
   "metadata": {
    "collapsed": false
   },
   "outputs": [
    {
     "data": {
      "text/plain": [
       "['n_jobs',\n",
       " 'verbose',\n",
       " 'estimator__penalty',\n",
       " 'param_grid',\n",
       " 'cv',\n",
       " 'scoring',\n",
       " 'estimator__verbose',\n",
       " 'pre_dispatch',\n",
       " 'estimator__intercept_scaling',\n",
       " 'fit_params',\n",
       " 'estimator__max_iter',\n",
       " 'estimator__warm_start',\n",
       " 'estimator__solver',\n",
       " 'refit',\n",
       " 'iid',\n",
       " 'estimator__dual',\n",
       " 'estimator__fit_intercept',\n",
       " 'estimator__n_jobs',\n",
       " 'estimator__class_weight',\n",
       " 'estimator__C',\n",
       " 'estimator__random_state',\n",
       " 'estimator',\n",
       " 'error_score',\n",
       " 'estimator__multi_class',\n",
       " 'estimator__tol']"
      ]
     },
     "execution_count": 23,
     "metadata": {},
     "output_type": "execute_result"
    }
   ],
   "source": [
    "logreg_est.get_params().keys()"
   ]
  },
  {
   "cell_type": "code",
   "execution_count": 48,
   "metadata": {
    "collapsed": false
   },
   "outputs": [],
   "source": [
    "logreg_grid = logreg_est.fit(X_train,Y_train)\n",
    "# grid.grid_scores_\n",
    "\n",
    "# for params, mean_acc, std in grid.grid_scores_:\n",
    "#     print 'C:', params['C']\n",
    "#     print 'penalty:', params['penalty']\n",
    "#     print 'class_weight:', params['class_weight']\n",
    "#     print 'mean accuracy' , mean_acc\n",
    "#     print '-------------------------------------\\n'"
   ]
  },
  {
   "cell_type": "code",
   "execution_count": 49,
   "metadata": {
    "collapsed": false
   },
   "outputs": [
    {
     "name": "stdout",
     "output_type": "stream",
     "text": [
      "Best C / Regularization Param: 0.483293023857\n",
      "Best Params: {'penalty': 'l1', 'C': 0.48329302385717543, 'n_jobs': 4, 'solver': 'liblinear', 'class_weight': 'balanced'}\n",
      "Best Score: 0.619204018547\n"
     ]
    }
   ],
   "source": [
    "print \"Best C / Regularization Param:\", logreg_grid.best_estimator_.C # This estimator.best_estimator_ object has many great reporting metrics\n",
    "print \"Best Params:\", logreg_grid.best_params_\n",
    "print \"Best Score:\", logreg_grid.best_score_"
   ]
  },
  {
   "cell_type": "markdown",
   "metadata": {},
   "source": [
    "## 6. Gridsearch neighbors for kNN\n",
    "\n",
    "Find the best number of neighbors with your predictors to predict the `label` target variable.\n",
    "\n",
    "Start by bulding a kNN model with a set number of neighbors, then use gridsearch to run through a series of neighbors.\n",
    "\n",
    "---"
   ]
  },
  {
   "cell_type": "code",
   "execution_count": 26,
   "metadata": {
    "collapsed": true
   },
   "outputs": [],
   "source": [
    "from sklearn.neighbors import KNeighborsClassifier\n",
    "knn = KNeighborsClassifier()"
   ]
  },
  {
   "cell_type": "code",
   "execution_count": 69,
   "metadata": {
    "collapsed": false
   },
   "outputs": [
    {
     "name": "stdout",
     "output_type": "stream",
     "text": [
      "KNeighborsClassifier(algorithm='auto', leaf_size=30, metric='minkowski',\n",
      "           metric_params=None, n_jobs=1, n_neighbors=5, p=2,\n",
      "           weights='uniform')\n"
     ]
    }
   ],
   "source": [
    "# print knn.fit(x,y)\n",
    "print knn.fit(X_train,Y_train)"
   ]
  },
  {
   "cell_type": "code",
   "execution_count": 28,
   "metadata": {
    "collapsed": false
   },
   "outputs": [
    {
     "name": "stdout",
     "output_type": "stream",
     "text": [
      "[1 0 1 0 0]\n",
      "[1 1 0 1 0]\n"
     ]
    }
   ],
   "source": [
    "print knn.predict(x)[0:5]\n",
    "print knn.predict(x_test)[0:5]"
   ]
  },
  {
   "cell_type": "code",
   "execution_count": 29,
   "metadata": {
    "collapsed": false
   },
   "outputs": [
    {
     "name": "stdout",
     "output_type": "stream",
     "text": [
      "[[ 0.4  0.6]\n",
      " [ 0.8  0.2]\n",
      " [ 0.2  0.8]\n",
      " [ 0.6  0.4]\n",
      " [ 0.6  0.4]]\n",
      "[[ 0.2  0.8]\n",
      " [ 0.   1. ]\n",
      " [ 0.6  0.4]\n",
      " [ 0.4  0.6]\n",
      " [ 0.6  0.4]]\n"
     ]
    }
   ],
   "source": [
    "print knn.predict_proba(x)[0:5]\n",
    "print knn.predict_proba(x_test)[0:5]"
   ]
  },
  {
   "cell_type": "code",
   "execution_count": 70,
   "metadata": {
    "collapsed": false
   },
   "outputs": [
    {
     "name": "stdout",
     "output_type": "stream",
     "text": [
      "0.754443585781\n"
     ]
    }
   ],
   "source": [
    "print knn.score(X_train, Y_train)"
   ]
  },
  {
   "cell_type": "code",
   "execution_count": null,
   "metadata": {
    "collapsed": true
   },
   "outputs": [],
   "source": [
    "KNeighborsClassifier(algorithm='auto', leaf_size=30, metric='minkowski',\n",
    "           metric_params=None, n_jobs=1, n_neighbors=5, p=2,\n",
    "           weights='uniform')"
   ]
  },
  {
   "cell_type": "code",
   "execution_count": 90,
   "metadata": {
    "collapsed": false
   },
   "outputs": [],
   "source": [
    "search_parameters_knn = {\n",
    "    \n",
    "    'weights': ['uniform'],\n",
    "    'algorithm' : ['auto', 'ball_tree', 'kd_tree', 'brute'],\n",
    "    'leaf_size': [30],\n",
    "    'n_neighbors': [5],\n",
    "    'n_jobs': [1],\n",
    "    'p': [2],\n",
    "    'metric': ['minkowski']\n",
    "    }\n",
    "\n",
    "knn_est = GridSearchCV(KNeighborsClassifier(), search_parameters_knn)"
   ]
  },
  {
   "cell_type": "code",
   "execution_count": 78,
   "metadata": {
    "collapsed": false
   },
   "outputs": [],
   "source": [
    "# knn_est.get_params().keys()"
   ]
  },
  {
   "cell_type": "code",
   "execution_count": 88,
   "metadata": {
    "collapsed": false
   },
   "outputs": [
    {
     "data": {
      "text/plain": [
       "40"
      ]
     },
     "execution_count": 88,
     "metadata": {},
     "output_type": "execute_result"
    }
   ],
   "source": [
    "len(knn_grid.grid_scores_)"
   ]
  },
  {
   "cell_type": "code",
   "execution_count": 91,
   "metadata": {
    "collapsed": false
   },
   "outputs": [],
   "source": [
    "knn_grid = knn_est.fit(X_train,Y_train)"
   ]
  },
  {
   "cell_type": "code",
   "execution_count": 92,
   "metadata": {
    "collapsed": false
   },
   "outputs": [
    {
     "name": "stdout",
     "output_type": "stream",
     "text": [
      "Best Params: {'n_neighbors': 5, 'n_jobs': 1, 'algorithm': 'auto', 'metric': 'minkowski', 'p': 2, 'weights': 'uniform', 'leaf_size': 30}\n",
      "Best Score: 0.61727202473\n"
     ]
    }
   ],
   "source": [
    "print \"Best Params:\", knn_grid.best_params_\n",
    "print \"Best Score:\", knn_grid.best_score_"
   ]
  },
  {
   "cell_type": "markdown",
   "metadata": {},
   "source": [
    "## 7. Choose a new target from alchemy_category to predict with logistic regression\n",
    "\n",
    "**Ideally your category choice will have a small fraction of the total rows, but not TOO small!**\n",
    "\n",
    "---"
   ]
  },
  {
   "cell_type": "markdown",
   "metadata": {},
   "source": [
    "### 7.1 Chose your target category, create the Y vector, and check the fraction of instances\n",
    "\n",
    "---"
   ]
  },
  {
   "cell_type": "code",
   "execution_count": 35,
   "metadata": {
    "collapsed": false
   },
   "outputs": [
    {
     "data": {
      "text/plain": [
       "?                     2342\n",
       "recreation            1229\n",
       "arts_entertainment     941\n",
       "business               880\n",
       "health                 506\n",
       "sports                 380\n",
       "culture_politics       343\n",
       "computer_internet      296\n",
       "science_technology     289\n",
       "gaming                  76\n",
       "religion                72\n",
       "law_crime               31\n",
       "unknown                  6\n",
       "weather                  4\n",
       "Name: alchemy_category, dtype: int64"
      ]
     },
     "execution_count": 35,
     "metadata": {},
     "output_type": "execute_result"
    }
   ],
   "source": [
    "su['alchemy_category'].value_counts()"
   ]
  },
  {
   "cell_type": "code",
   "execution_count": 60,
   "metadata": {
    "collapsed": false
   },
   "outputs": [
    {
     "data": {
      "text/html": [
       "<div>\n",
       "<table border=\"1\" class=\"dataframe\">\n",
       "  <thead>\n",
       "    <tr style=\"text-align: right;\">\n",
       "      <th></th>\n",
       "      <th>url</th>\n",
       "      <th>urlid</th>\n",
       "      <th>boilerplate</th>\n",
       "      <th>alchemy_category</th>\n",
       "      <th>alchemy_category_score</th>\n",
       "      <th>avglinksize</th>\n",
       "      <th>commonlinkratio_1</th>\n",
       "      <th>commonlinkratio_2</th>\n",
       "      <th>commonlinkratio_3</th>\n",
       "      <th>commonlinkratio_4</th>\n",
       "      <th>...</th>\n",
       "      <th>lengthyLinkDomain</th>\n",
       "      <th>linkwordscore</th>\n",
       "      <th>news_front_page</th>\n",
       "      <th>non_markup_alphanum_characters</th>\n",
       "      <th>numberOfLinks</th>\n",
       "      <th>numwords_in_url</th>\n",
       "      <th>parametrizedLinkRatio</th>\n",
       "      <th>spelling_errors_ratio</th>\n",
       "      <th>label</th>\n",
       "      <th>ane_binary</th>\n",
       "    </tr>\n",
       "  </thead>\n",
       "  <tbody>\n",
       "    <tr>\n",
       "      <th>7390</th>\n",
       "      <td>http://techcrunch.com/2010/09/08/kno-raises-46...</td>\n",
       "      <td>1.198190</td>\n",
       "      <td>{\"title\":\"Kno Raises 46 Million More To Build ...</td>\n",
       "      <td>computer_internet</td>\n",
       "      <td>0.651067</td>\n",
       "      <td>0.028855</td>\n",
       "      <td>0.032085</td>\n",
       "      <td>0.055491</td>\n",
       "      <td>1.040482</td>\n",
       "      <td>1.964328</td>\n",
       "      <td>...</td>\n",
       "      <td>0.717243</td>\n",
       "      <td>0.388536</td>\n",
       "      <td>0</td>\n",
       "      <td>-0.394103</td>\n",
       "      <td>-0.444429</td>\n",
       "      <td>1.868095</td>\n",
       "      <td>-0.722746</td>\n",
       "      <td>-0.376043</td>\n",
       "      <td>0</td>\n",
       "      <td>0</td>\n",
       "    </tr>\n",
       "    <tr>\n",
       "      <th>7391</th>\n",
       "      <td>http://www.uncoached.com/category/why-i-miss-c...</td>\n",
       "      <td>1.177522</td>\n",
       "      <td>{\"title\":\"Why I Miss College \",\"body\":\"Mar 30 ...</td>\n",
       "      <td>culture_politics</td>\n",
       "      <td>0.14192</td>\n",
       "      <td>-0.064248</td>\n",
       "      <td>0.074355</td>\n",
       "      <td>0.222082</td>\n",
       "      <td>-0.577208</td>\n",
       "      <td>-0.311131</td>\n",
       "      <td>...</td>\n",
       "      <td>0.717243</td>\n",
       "      <td>0.192378</td>\n",
       "      <td>0</td>\n",
       "      <td>-0.005025</td>\n",
       "      <td>0.675635</td>\n",
       "      <td>-0.297148</td>\n",
       "      <td>-0.834077</td>\n",
       "      <td>0.103905</td>\n",
       "      <td>0</td>\n",
       "      <td>0</td>\n",
       "    </tr>\n",
       "    <tr>\n",
       "      <th>7392</th>\n",
       "      <td>http://eatthis.menshealth.com/slide/sweet-pota...</td>\n",
       "      <td>-1.349890</td>\n",
       "      <td>{\"title\":\"Sweet Potatoes Eat This Not That  i'...</td>\n",
       "      <td>recreation</td>\n",
       "      <td>0.196273</td>\n",
       "      <td>-0.088387</td>\n",
       "      <td>-0.750499</td>\n",
       "      <td>-0.293236</td>\n",
       "      <td>0.137549</td>\n",
       "      <td>0.046395</td>\n",
       "      <td>...</td>\n",
       "      <td>0.717243</td>\n",
       "      <td>0.633734</td>\n",
       "      <td>0</td>\n",
       "      <td>-0.548585</td>\n",
       "      <td>-0.572595</td>\n",
       "      <td>0.012172</td>\n",
       "      <td>1.425993</td>\n",
       "      <td>0.207336</td>\n",
       "      <td>1</td>\n",
       "      <td>0</td>\n",
       "    </tr>\n",
       "    <tr>\n",
       "      <th>7393</th>\n",
       "      <td>http://naturallyella.com/</td>\n",
       "      <td>0.100485</td>\n",
       "      <td>{\"title\":\"Naturally Ella \",\"body\":\" \",\"url\":\"n...</td>\n",
       "      <td>arts_entertainment</td>\n",
       "      <td>0.617876</td>\n",
       "      <td>-0.201353</td>\n",
       "      <td>-1.268731</td>\n",
       "      <td>-1.100288</td>\n",
       "      <td>-0.959265</td>\n",
       "      <td>-0.678320</td>\n",
       "      <td>...</td>\n",
       "      <td>-1.394227</td>\n",
       "      <td>0.339497</td>\n",
       "      <td>1</td>\n",
       "      <td>-0.600642</td>\n",
       "      <td>-0.784349</td>\n",
       "      <td>-1.534430</td>\n",
       "      <td>-0.799616</td>\n",
       "      <td>2.929770</td>\n",
       "      <td>1</td>\n",
       "      <td>1</td>\n",
       "    </tr>\n",
       "    <tr>\n",
       "      <th>7394</th>\n",
       "      <td>http://sportsillustrated.cnn.com/2011_swimsuit...</td>\n",
       "      <td>-1.711089</td>\n",
       "      <td>{\"title\":\"Esti Ginzburg Swimsuit by Letarte by...</td>\n",
       "      <td>?</td>\n",
       "      <td>?</td>\n",
       "      <td>-0.186051</td>\n",
       "      <td>0.185539</td>\n",
       "      <td>1.464663</td>\n",
       "      <td>-0.712645</td>\n",
       "      <td>-0.678320</td>\n",
       "      <td>...</td>\n",
       "      <td>-1.394227</td>\n",
       "      <td>2.350116</td>\n",
       "      <td>?</td>\n",
       "      <td>-0.586107</td>\n",
       "      <td>0.887388</td>\n",
       "      <td>-0.297148</td>\n",
       "      <td>-0.910918</td>\n",
       "      <td>0.415593</td>\n",
       "      <td>0</td>\n",
       "      <td>0</td>\n",
       "    </tr>\n",
       "  </tbody>\n",
       "</table>\n",
       "<p>5 rows × 27 columns</p>\n",
       "</div>"
      ],
      "text/plain": [
       "                                                    url     urlid  \\\n",
       "7390  http://techcrunch.com/2010/09/08/kno-raises-46...  1.198190   \n",
       "7391  http://www.uncoached.com/category/why-i-miss-c...  1.177522   \n",
       "7392  http://eatthis.menshealth.com/slide/sweet-pota... -1.349890   \n",
       "7393                          http://naturallyella.com/  0.100485   \n",
       "7394  http://sportsillustrated.cnn.com/2011_swimsuit... -1.711089   \n",
       "\n",
       "                                            boilerplate    alchemy_category  \\\n",
       "7390  {\"title\":\"Kno Raises 46 Million More To Build ...   computer_internet   \n",
       "7391  {\"title\":\"Why I Miss College \",\"body\":\"Mar 30 ...    culture_politics   \n",
       "7392  {\"title\":\"Sweet Potatoes Eat This Not That  i'...          recreation   \n",
       "7393  {\"title\":\"Naturally Ella \",\"body\":\" \",\"url\":\"n...  arts_entertainment   \n",
       "7394  {\"title\":\"Esti Ginzburg Swimsuit by Letarte by...                   ?   \n",
       "\n",
       "     alchemy_category_score  avglinksize  commonlinkratio_1  \\\n",
       "7390               0.651067     0.028855           0.032085   \n",
       "7391                0.14192    -0.064248           0.074355   \n",
       "7392               0.196273    -0.088387          -0.750499   \n",
       "7393               0.617876    -0.201353          -1.268731   \n",
       "7394                      ?    -0.186051           0.185539   \n",
       "\n",
       "      commonlinkratio_2  commonlinkratio_3  commonlinkratio_4    ...      \\\n",
       "7390           0.055491           1.040482           1.964328    ...       \n",
       "7391           0.222082          -0.577208          -0.311131    ...       \n",
       "7392          -0.293236           0.137549           0.046395    ...       \n",
       "7393          -1.100288          -0.959265          -0.678320    ...       \n",
       "7394           1.464663          -0.712645          -0.678320    ...       \n",
       "\n",
       "      lengthyLinkDomain  linkwordscore  news_front_page  \\\n",
       "7390           0.717243       0.388536                0   \n",
       "7391           0.717243       0.192378                0   \n",
       "7392           0.717243       0.633734                0   \n",
       "7393          -1.394227       0.339497                1   \n",
       "7394          -1.394227       2.350116                ?   \n",
       "\n",
       "      non_markup_alphanum_characters  numberOfLinks  numwords_in_url  \\\n",
       "7390                       -0.394103      -0.444429         1.868095   \n",
       "7391                       -0.005025       0.675635        -0.297148   \n",
       "7392                       -0.548585      -0.572595         0.012172   \n",
       "7393                       -0.600642      -0.784349        -1.534430   \n",
       "7394                       -0.586107       0.887388        -0.297148   \n",
       "\n",
       "     parametrizedLinkRatio  spelling_errors_ratio  label ane_binary  \n",
       "7390             -0.722746              -0.376043      0          0  \n",
       "7391             -0.834077               0.103905      0          0  \n",
       "7392              1.425993               0.207336      1          0  \n",
       "7393             -0.799616               2.929770      1          1  \n",
       "7394             -0.910918               0.415593      0          0  \n",
       "\n",
       "[5 rows x 27 columns]"
      ]
     },
     "execution_count": 60,
     "metadata": {},
     "output_type": "execute_result"
    }
   ],
   "source": [
    "su['ane_binary'] = su['alchemy_category'].map(lambda x: 1 if x=='arts_entertainment' else 0)\n",
    "su.tail()"
   ]
  },
  {
   "cell_type": "markdown",
   "metadata": {},
   "source": [
    "### 7.2 Use patsy to create an X matrix of the numeric predictors and all two-way interactions between them\n",
    "\n",
    "Ex:\n",
    "\n",
    "```python\n",
    "import patsy\n",
    "\n",
    "formula_interactions = '~ (var1 + var2 + var3)**2 -1'\n",
    "X_interactions = patsy.dmatrix(formula_interactions, data=data\n",
    "```\n",
    "\n",
    "Get the column names from the `design_info` property of the patsy X matrix.\n",
    "\n",
    "---"
   ]
  },
  {
   "cell_type": "code",
   "execution_count": 67,
   "metadata": {
    "collapsed": true
   },
   "outputs": [],
   "source": [
    "import patsy\n",
    "target = 'ane_binary'\n",
    "Y = su[target]"
   ]
  },
  {
   "cell_type": "code",
   "execution_count": 63,
   "metadata": {
    "collapsed": false
   },
   "outputs": [],
   "source": [
    "formula_interactions = '~(avglinksize + spelling_errors_ratio + news_front_page + numwords_in_url + is_news -1)**2 -1'\n",
    "X_interactions = patsy.dmatrix(formula_interactions, data = su)"
   ]
  },
  {
   "cell_type": "code",
   "execution_count": 64,
   "metadata": {
    "collapsed": false
   },
   "outputs": [
    {
     "data": {
      "text/plain": [
       "DesignMatrix with shape (7395, 21)\n",
       "  Columns:\n",
       "    ['news_front_page[0]',\n",
       "     'news_front_page[1]',\n",
       "     'news_front_page[?]',\n",
       "     'is_news[T.?]',\n",
       "     'news_front_page[T.1]:is_news[T.?]',\n",
       "     'news_front_page[T.?]:is_news[T.?]',\n",
       "     'avglinksize',\n",
       "     'avglinksize:news_front_page[T.1]',\n",
       "     'avglinksize:news_front_page[T.?]',\n",
       "     'avglinksize:is_news[T.?]',\n",
       "     'spelling_errors_ratio',\n",
       "     'spelling_errors_ratio:news_front_page[T.1]',\n",
       "     'spelling_errors_ratio:news_front_page[T.?]',\n",
       "     'spelling_errors_ratio:is_news[T.?]',\n",
       "     'numwords_in_url',\n",
       "     'news_front_page[T.1]:numwords_in_url',\n",
       "     'news_front_page[T.?]:numwords_in_url',\n",
       "     'numwords_in_url:is_news[T.?]',\n",
       "     'avglinksize:spelling_errors_ratio',\n",
       "     'avglinksize:numwords_in_url',\n",
       "     'spelling_errors_ratio:numwords_in_url']\n",
       "  Terms:\n",
       "    'news_front_page' (columns 0:3)\n",
       "    'is_news' (column 3)\n",
       "    'news_front_page:is_news' (columns 4:6)\n",
       "    'avglinksize' (column 6)\n",
       "    'avglinksize:news_front_page' (columns 7:9)\n",
       "    'avglinksize:is_news' (column 9)\n",
       "    'spelling_errors_ratio' (column 10)\n",
       "    'spelling_errors_ratio:news_front_page' (columns 11:13)\n",
       "    'spelling_errors_ratio:is_news' (column 13)\n",
       "    'numwords_in_url' (column 14)\n",
       "    'news_front_page:numwords_in_url' (columns 15:17)\n",
       "    'numwords_in_url:is_news' (column 17)\n",
       "    'avglinksize:spelling_errors_ratio' (column 18)\n",
       "    'avglinksize:numwords_in_url' (column 19)\n",
       "    'spelling_errors_ratio:numwords_in_url' (column 20)\n",
       "  (to view full data, use np.asarray(this_obj))"
      ]
     },
     "execution_count": 64,
     "metadata": {},
     "output_type": "execute_result"
    }
   ],
   "source": [
    "X_interactions"
   ]
  },
  {
   "cell_type": "code",
   "execution_count": 65,
   "metadata": {
    "collapsed": false
   },
   "outputs": [
    {
     "data": {
      "text/plain": [
       "DesignInfo(['news_front_page[0]',\n",
       "            'news_front_page[1]',\n",
       "            'news_front_page[?]',\n",
       "            'is_news[T.?]',\n",
       "            'news_front_page[T.1]:is_news[T.?]',\n",
       "            'news_front_page[T.?]:is_news[T.?]',\n",
       "            'avglinksize',\n",
       "            'avglinksize:news_front_page[T.1]',\n",
       "            'avglinksize:news_front_page[T.?]',\n",
       "            'avglinksize:is_news[T.?]',\n",
       "            'spelling_errors_ratio',\n",
       "            'spelling_errors_ratio:news_front_page[T.1]',\n",
       "            'spelling_errors_ratio:news_front_page[T.?]',\n",
       "            'spelling_errors_ratio:is_news[T.?]',\n",
       "            'numwords_in_url',\n",
       "            'news_front_page[T.1]:numwords_in_url',\n",
       "            'news_front_page[T.?]:numwords_in_url',\n",
       "            'numwords_in_url:is_news[T.?]',\n",
       "            'avglinksize:spelling_errors_ratio',\n",
       "            'avglinksize:numwords_in_url',\n",
       "            'spelling_errors_ratio:numwords_in_url'],\n",
       "           factor_infos={EvalFactor('numwords_in_url'): FactorInfo(factor=EvalFactor('numwords_in_url'),\n",
       "                                    type='numerical',\n",
       "                                    state=<factor state>,\n",
       "                                    num_columns=1),\n",
       "                         EvalFactor('spelling_errors_ratio'): FactorInfo(factor=EvalFactor('spelling_errors_ratio'),\n",
       "                                    type='numerical',\n",
       "                                    state=<factor state>,\n",
       "                                    num_columns=1),\n",
       "                         EvalFactor('is_news'): FactorInfo(factor=EvalFactor('is_news'),\n",
       "                                    type='categorical',\n",
       "                                    state=<factor state>,\n",
       "                                    categories=('1', '?')),\n",
       "                         EvalFactor('news_front_page'): FactorInfo(factor=EvalFactor('news_front_page'),\n",
       "                                    type='categorical',\n",
       "                                    state=<factor state>,\n",
       "                                    categories=('0', '1', '?')),\n",
       "                         EvalFactor('avglinksize'): FactorInfo(factor=EvalFactor('avglinksize'),\n",
       "                                    type='numerical',\n",
       "                                    state=<factor state>,\n",
       "                                    num_columns=1)},\n",
       "           term_codings=OrderedDict([(Term([EvalFactor('news_front_page')]),\n",
       "                                      [SubtermInfo(factors=(EvalFactor('news_front_page'),),\n",
       "                                                   contrast_matrices={EvalFactor('news_front_page'): ContrastMatrix(array([[ 1.,  0.,  0.],\n",
       "                                                                                            [ 0.,  1.,  0.],\n",
       "                                                                                            [ 0.,  0.,  1.]]),\n",
       "                                                                                     ['[0]',\n",
       "                                                                                      '[1]',\n",
       "                                                                                      '[?]'])},\n",
       "                                                   num_columns=3)]),\n",
       "                                     (Term([EvalFactor('is_news')]),\n",
       "                                      [SubtermInfo(factors=(EvalFactor('is_news'),),\n",
       "                                                   contrast_matrices={EvalFactor('is_news'): ContrastMatrix(array([[ 0.],\n",
       "                                                                                            [ 1.]]),\n",
       "                                                                                     ['[T.?]'])},\n",
       "                                                   num_columns=1)]),\n",
       "                                     (Term([EvalFactor('news_front_page'),\n",
       "                                            EvalFactor('is_news')]),\n",
       "                                      [SubtermInfo(factors=(EvalFactor('news_front_page'),\n",
       "                                                            EvalFactor('is_news')),\n",
       "                                                   contrast_matrices={EvalFactor('is_news'): ContrastMatrix(array([[ 0.],\n",
       "                                                                                            [ 1.]]),\n",
       "                                                                                     ['[T.?]']),\n",
       "                                                                      EvalFactor('news_front_page'): ContrastMatrix(array([[ 0.,  0.],\n",
       "                                                                                            [ 1.,  0.],\n",
       "                                                                                            [ 0.,  1.]]),\n",
       "                                                                                     ['[T.1]',\n",
       "                                                                                      '[T.?]'])},\n",
       "                                                   num_columns=2)]),\n",
       "                                     (Term([EvalFactor('avglinksize')]),\n",
       "                                      [SubtermInfo(factors=(EvalFactor('avglinksize'),),\n",
       "                                                   contrast_matrices={},\n",
       "                                                   num_columns=1)]),\n",
       "                                     (Term([EvalFactor('avglinksize'),\n",
       "                                            EvalFactor('news_front_page')]),\n",
       "                                      [SubtermInfo(factors=(EvalFactor('avglinksize'),\n",
       "                                                            EvalFactor('news_front_page')),\n",
       "                                                   contrast_matrices={EvalFactor('news_front_page'): ContrastMatrix(array([[ 0.,  0.],\n",
       "                                                                                            [ 1.,  0.],\n",
       "                                                                                            [ 0.,  1.]]),\n",
       "                                                                                     ['[T.1]',\n",
       "                                                                                      '[T.?]'])},\n",
       "                                                   num_columns=2)]),\n",
       "                                     (Term([EvalFactor('avglinksize'),\n",
       "                                            EvalFactor('is_news')]),\n",
       "                                      [SubtermInfo(factors=(EvalFactor('avglinksize'),\n",
       "                                                            EvalFactor('is_news')),\n",
       "                                                   contrast_matrices={EvalFactor('is_news'): ContrastMatrix(array([[ 0.],\n",
       "                                                                                            [ 1.]]),\n",
       "                                                                                     ['[T.?]'])},\n",
       "                                                   num_columns=1)]),\n",
       "                                     (Term([EvalFactor('spelling_errors_ratio')]),\n",
       "                                      [SubtermInfo(factors=(EvalFactor('spelling_errors_ratio'),),\n",
       "                                                   contrast_matrices={},\n",
       "                                                   num_columns=1)]),\n",
       "                                     (Term([EvalFactor('spelling_errors_ratio'),\n",
       "                                            EvalFactor('news_front_page')]),\n",
       "                                      [SubtermInfo(factors=(EvalFactor('spelling_errors_ratio'),\n",
       "                                                            EvalFactor('news_front_page')),\n",
       "                                                   contrast_matrices={EvalFactor('news_front_page'): ContrastMatrix(array([[ 0.,  0.],\n",
       "                                                                                            [ 1.,  0.],\n",
       "                                                                                            [ 0.,  1.]]),\n",
       "                                                                                     ['[T.1]',\n",
       "                                                                                      '[T.?]'])},\n",
       "                                                   num_columns=2)]),\n",
       "                                     (Term([EvalFactor('spelling_errors_ratio'),\n",
       "                                            EvalFactor('is_news')]),\n",
       "                                      [SubtermInfo(factors=(EvalFactor('spelling_errors_ratio'),\n",
       "                                                            EvalFactor('is_news')),\n",
       "                                                   contrast_matrices={EvalFactor('is_news'): ContrastMatrix(array([[ 0.],\n",
       "                                                                                            [ 1.]]),\n",
       "                                                                                     ['[T.?]'])},\n",
       "                                                   num_columns=1)]),\n",
       "                                     (Term([EvalFactor('numwords_in_url')]),\n",
       "                                      [SubtermInfo(factors=(EvalFactor('numwords_in_url'),),\n",
       "                                                   contrast_matrices={},\n",
       "                                                   num_columns=1)]),\n",
       "                                     (Term([EvalFactor('news_front_page'),\n",
       "                                            EvalFactor('numwords_in_url')]),\n",
       "                                      [SubtermInfo(factors=(EvalFactor('news_front_page'),\n",
       "                                                            EvalFactor('numwords_in_url')),\n",
       "                                                   contrast_matrices={EvalFactor('news_front_page'): ContrastMatrix(array([[ 0.,  0.],\n",
       "                                                                                            [ 1.,  0.],\n",
       "                                                                                            [ 0.,  1.]]),\n",
       "                                                                                     ['[T.1]',\n",
       "                                                                                      '[T.?]'])},\n",
       "                                                   num_columns=2)]),\n",
       "                                     (Term([EvalFactor('numwords_in_url'),\n",
       "                                            EvalFactor('is_news')]),\n",
       "                                      [SubtermInfo(factors=(EvalFactor('numwords_in_url'),\n",
       "                                                            EvalFactor('is_news')),\n",
       "                                                   contrast_matrices={EvalFactor('is_news'): ContrastMatrix(array([[ 0.],\n",
       "                                                                                            [ 1.]]),\n",
       "                                                                                     ['[T.?]'])},\n",
       "                                                   num_columns=1)]),\n",
       "                                     (Term([EvalFactor('avglinksize'),\n",
       "                                            EvalFactor('spelling_errors_ratio')]),\n",
       "                                      [SubtermInfo(factors=(EvalFactor('avglinksize'),\n",
       "                                                            EvalFactor('spelling_errors_ratio')),\n",
       "                                                   contrast_matrices={},\n",
       "                                                   num_columns=1)]),\n",
       "                                     (Term([EvalFactor('avglinksize'),\n",
       "                                            EvalFactor('numwords_in_url')]),\n",
       "                                      [SubtermInfo(factors=(EvalFactor('avglinksize'),\n",
       "                                                            EvalFactor('numwords_in_url')),\n",
       "                                                   contrast_matrices={},\n",
       "                                                   num_columns=1)]),\n",
       "                                     (Term([EvalFactor('spelling_errors_ratio'),\n",
       "                                            EvalFactor('numwords_in_url')]),\n",
       "                                      [SubtermInfo(factors=(EvalFactor('spelling_errors_ratio'),\n",
       "                                                            EvalFactor('numwords_in_url')),\n",
       "                                                   contrast_matrices={},\n",
       "                                                   num_columns=1)])]))"
      ]
     },
     "execution_count": 65,
     "metadata": {},
     "output_type": "execute_result"
    }
   ],
   "source": [
    "X_interactions.design_info"
   ]
  },
  {
   "cell_type": "markdown",
   "metadata": {},
   "source": [
    "### 7.3 Normalize the predictor matrix columns\n",
    "\n",
    "---"
   ]
  },
  {
   "cell_type": "code",
   "execution_count": 66,
   "metadata": {
    "collapsed": false
   },
   "outputs": [
    {
     "data": {
      "text/plain": [
       "StandardScaler(copy=DesignMatrix with shape (7395, 21)\n",
       "  Columns:\n",
       "    ['news_front_page[0]',\n",
       "     'news_front_page[1]',\n",
       "     'news_front_page[?]',\n",
       "     'is_news[T.?]',\n",
       "     'news_front_page[T.1]:is_news[T.?]',\n",
       "     'news_front_page[T.?]:is_news[T.?]',\n",
       "     'avglinksize',\n",
       "     'avglinksize:news_front_page[T.1]',\n",
       "  ... 'spelling_errors_ratio:numwords_in_url' (column 20)\n",
       "  (to view full data, use np.asarray(this_obj)),\n",
       "        with_mean=True, with_std=True)"
      ]
     },
     "execution_count": 66,
     "metadata": {},
     "output_type": "execute_result"
    }
   ],
   "source": [
    "from sklearn.preprocessing import StandardScaler\n",
    "StandardScaler(X_interactions)"
   ]
  },
  {
   "cell_type": "markdown",
   "metadata": {},
   "source": [
    "### 7.4 Gridsearch a logistic regression to predict accuracy on your new target from the interaction predictors\n",
    "\n",
    "Include Ridge and Lasso.\n",
    "\n",
    "---"
   ]
  },
  {
   "cell_type": "code",
   "execution_count": 55,
   "metadata": {
    "collapsed": true
   },
   "outputs": [],
   "source": [
    "from sklearn.grid_search import GridSearchCV\n",
    "\n",
    "logreg = LogisticRegression()\n",
    "Cs = 1.0/np.logspace(-1,4,20)\n",
    "\n",
    "search_parameters_log = {\n",
    "    'penalty': ['l1','l2'],\n",
    "    'C': Cs,\n",
    "    'class_weight': [None, 'balanced'],\n",
    "    'solver': ['liblinear'],\n",
    "    'n_jobs': [4],\n",
    "    }\n",
    "logreg_est = GridSearchCV(logreg, search_parameters_log, cv=10)"
   ]
  },
  {
   "cell_type": "code",
   "execution_count": 68,
   "metadata": {
    "collapsed": true
   },
   "outputs": [],
   "source": [
    "logreg_grid = logreg_est.fit(X_interactions,Y)"
   ]
  },
  {
   "cell_type": "markdown",
   "metadata": {},
   "source": [
    "### 7.5 Build a logistic regression with the optimal parameters, and look at the coefficients\n",
    "\n",
    "---"
   ]
  },
  {
   "cell_type": "code",
   "execution_count": null,
   "metadata": {
    "collapsed": true
   },
   "outputs": [],
   "source": []
  },
  {
   "cell_type": "markdown",
   "metadata": {},
   "source": [
    "### 7.6 Gridsearch parameters for a logistic regression with the same target and predictors, but score based on precision rather than accuracy\n",
    "\n",
    "Look at the documentation.\n",
    "\n",
    "---"
   ]
  },
  {
   "cell_type": "code",
   "execution_count": null,
   "metadata": {
    "collapsed": true
   },
   "outputs": [],
   "source": []
  },
  {
   "cell_type": "markdown",
   "metadata": {},
   "source": [
    "## [BONUS] 8. Build models predicting from words\n",
    "\n",
    "This is a bit of the NLP we covered in the pipeline lecture!\n",
    "\n",
    "---"
   ]
  },
  {
   "cell_type": "markdown",
   "metadata": {},
   "source": [
    "### 8.1 Choose 'body' or 'title' from the boilerplate to be the basis of your word predictors\n",
    "\n",
    "You will need to parse the json from the boilerplate field.\n",
    "\n",
    "---"
   ]
  },
  {
   "cell_type": "code",
   "execution_count": 40,
   "metadata": {
    "collapsed": true
   },
   "outputs": [],
   "source": [
    "import json"
   ]
  },
  {
   "cell_type": "markdown",
   "metadata": {},
   "source": [
    "### 8.2 Use CountVectorizer to create your predictor matrix from the string column\n",
    "\n",
    "It is up to you what range of ngrams and features, and whether or not you want the columns binary or counts.\n",
    "\n",
    "---"
   ]
  },
  {
   "cell_type": "code",
   "execution_count": null,
   "metadata": {
    "collapsed": true
   },
   "outputs": [],
   "source": []
  },
  {
   "cell_type": "markdown",
   "metadata": {},
   "source": [
    "### 8.3 Gridsearch a logistic regression predicting accuracy of your chosen target category from word predictor matrix\n",
    "\n",
    "---"
   ]
  },
  {
   "cell_type": "code",
   "execution_count": null,
   "metadata": {
    "collapsed": true
   },
   "outputs": [],
   "source": []
  },
  {
   "cell_type": "markdown",
   "metadata": {},
   "source": [
    "### 8.4 Do the same as above, but score the gridsearch based on precision rather than accuracy\n",
    "\n",
    "---"
   ]
  },
  {
   "cell_type": "code",
   "execution_count": null,
   "metadata": {
    "collapsed": true
   },
   "outputs": [],
   "source": []
  },
  {
   "cell_type": "markdown",
   "metadata": {},
   "source": [
    "### 8.5 Build a logistic regression with optimal precision categories\n",
    "\n",
    "Print out the top 20 or 25 word features as ranked by their coefficients.\n",
    "\n",
    "---"
   ]
  },
  {
   "cell_type": "code",
   "execution_count": null,
   "metadata": {
    "collapsed": true
   },
   "outputs": [],
   "source": []
  }
 ],
 "metadata": {
  "kernelspec": {
   "display_name": "Python 2",
   "language": "python",
   "name": "python2"
  },
  "language_info": {
   "codemirror_mode": {
    "name": "ipython",
    "version": 2
   },
   "file_extension": ".py",
   "mimetype": "text/x-python",
   "name": "python",
   "nbconvert_exporter": "python",
   "pygments_lexer": "ipython2",
   "version": "2.7.11"
  }
 },
 "nbformat": 4,
 "nbformat_minor": 0
}
